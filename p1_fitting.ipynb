{
 "cells": [
  {
   "cell_type": "code",
   "execution_count": 4,
   "metadata": {},
   "outputs": [
    {
     "name": "stdout",
     "output_type": "stream",
     "text": [
      "400\n",
      "焊接位置/mm： 13 9\n",
      "[179.31034482758622, 275.8620689655172]\n",
      "圆半径 12.895577931397362 mm\n",
      "Circle center (cx_scaled/mm, cy_scaled/mm): (13.35 ± 0.03, -1.27 ± 0.22)\n",
      "Circle radius (r_scaled/mm): 12.90 ± 0.21\n"
     ]
    },
    {
     "data": {
      "image/png": "[encoded data removed]",
      "text/plain": [
       "<Figure size 640x480 with 1 Axes>"
      ]
     },
     "metadata": {},
     "output_type": "display_data"
    }
   ],
   "source": [
    "# 拟合并且保存图片\n",
    "import csv\n",
    "import cv2\n",
    "import numpy as np\n",
    "import matplotlib.pyplot as plt\n",
    "from scipy.optimize import curve_fit\n",
    "from matplotlib.patches import Circle\n",
    "import os\n",
    "# from scipy.optimize import curve_fit\n",
    "\n",
    "def circle(x, cx, cy, r):\n",
    "    return np.sqrt(r**2 - (x - cx)**2) + cy\n",
    "\n",
    "\n",
    "# 创建一个列表，用于存储圆心和半径\n",
    "circle_data = []\n",
    "# 读取黑白图片\n",
    "filename = 'cropped_p1-1_0036.bmp'\n",
    "folder_path = './cropped/cropped_p1-1/'\n",
    "# os.path.join(output_path, 'fitted_'+filename)\n",
    "image = cv2.imread(os.path.join(folder_path, filename), cv2.IMREAD_GRAYSCALE)\n",
    "# image = cv2.imread('./cropped/cropped_p2-1_0015.bmp', cv2.IMREAD_GRAYSCALE)\n",
    "width, length = image.shape\n",
    "print(width)\n",
    "\n",
    "# 定义特定区域的边界框 [start_row:end_row, start_col:end_col]\n",
    "\n",
    "start_row, end_row = 200, 280  # 请根据实际情况调整\n",
    "start_col, end_col = 145, 255\n",
    "\n",
    "# 裁剪图像\n",
    "cropped_image = image[start_row:end_row, start_col:end_col]\n",
    "\n",
    "# 获取裁剪后图像的形状\n",
    "rows, cols = cropped_image.shape\n",
    "\n",
    "# 存储每列的第一个黑色点的坐标\n",
    "first_black_pixels = []\n",
    "\n",
    "# 遍历每一列\n",
    "for col in range(cols):\n",
    "    # 找到当前列中第一个黑色点的行坐标\n",
    "    black_pixel_row = np.argmax(cropped_image[:, col] == 0)\n",
    "    \n",
    "    # 如果找到了黑色点，则记录坐标\n",
    "    if black_pixel_row > 0:  # 0 表示未找到黑色点\n",
    "        # 转换坐标为完整图像坐标\n",
    "        full_image_row =width - (start_row + black_pixel_row)\n",
    "        first_black_pixels.append((start_col + col, full_image_row))\n",
    "\n",
    "# 将坐标转换为 NumPy 数组\n",
    "first_black_pixels = np.array(first_black_pixels)\n",
    "# print(first_black_pixels)\n",
    "\n",
    "# 进行圆形拟合\n",
    "# p0 = [np.mean(first_black_pixels[:, 0]), np.mean(first_black_pixels[:, 1]), 10.0]  # 初始猜测值\n",
    "p0 = [200, 350, 150.0]  # 初始猜测值\n",
    "params, covariance = curve_fit(circle, first_black_pixels[:, 0], first_black_pixels[:, 1], p0=p0)\n",
    "\n",
    "# 提取拟合结果\n",
    "cx, cy, r = params\n",
    "\n",
    "# 生成拟合曲线的 x 值范围\n",
    "fit_x = np.linspace(min(first_black_pixels[:, 0]), max(first_black_pixels[:, 0]), 100)\n",
    "\n",
    "# 计算拟合曲线的 y 值\n",
    "fit_y = circle(fit_x, cx, cy, r)\n",
    "\n",
    "# 显示图像\n",
    "output_path = './fitted/fitted_p1-1/'\n",
    "\n",
    "output_filename = os.path.join(output_path, 'fitted_'+filename.replace('bmp','jpg'))\n",
    "\n",
    "plt.imshow(image, cmap='gray')\n",
    "\n",
    "# 在坐标轴上画出每列的第一个黑色点的位置\n",
    "plt.scatter(first_black_pixels[:, 0], width-first_black_pixels[:, 1], color='red', s=5)\n",
    "# 画出拟合圆\n",
    "# plt.plot(fit_x, fit_y, color='blue')\n",
    "circle_patch = Circle((cx, width-cy), r, color='purple', fill=False)\n",
    "plt.gca().add_patch(circle_patch)\n",
    "\n",
    "\n",
    "scale_factor = 29 / width  # 将369像素映射到29mm\n",
    "\n",
    "# 标记圆心位置\n",
    "plt.scatter(cx, width-cy, color='green', marker='x')\n",
    "\n",
    "p1= [0, 3]\n",
    "p1_scaled=[0,0]\n",
    "p1_scaled[0] = (p1[0]+13)/scale_factor\n",
    "p1_scaled[1] = width - (p1[1]+6)/scale_factor \n",
    "print( \"焊接位置/mm：\", p1[0]+13, p1[1]+6) \n",
    "\n",
    "print(p1_scaled)\n",
    "plt.scatter(p1_scaled[0], p1_scaled[1], color='red', marker='x')\n",
    "\n",
    "# # 显示图像、黑色像素位置和拟合圆\n",
    "# plt.axis('equal')\n",
    "# plt.show()\n",
    "plt.savefig(output_filename)\n",
    "print(\"圆半径\",r*scale_factor,\"mm\")\n",
    "\n",
    "\n",
    "scaled_first_black_pixels = first_black_pixels * scale_factor\n",
    "# p0_scaled = [175 * scale_factor, 60 * scale_factor, 150.0 * scale_factor]  # 初始猜测值\n",
    "p0_scaled = [p * scale_factor for p in p0]\n",
    "params_scaled, covariance_scaled = curve_fit(circle, scaled_first_black_pixels[:, 0], scaled_first_black_pixels[:, 1], p0=p0_scaled)\n",
    "# 计算标准偏差作为拟合误差的估计\n",
    "fit_errors = np.sqrt(np.diag(covariance_scaled))\n",
    "print(f\"Circle center (cx_scaled/mm, cy_scaled/mm): ({cx*scale_factor:.2f} ± {fit_errors[0]:.2f}, {cy*scale_factor:.2f} ± {fit_errors[1]:.2f})\")\n",
    "print(f\"Circle radius (r_scaled/mm): {r*scale_factor:.2f} ± {fit_errors[2]:.2f}\")\n",
    "circle_data.append((round(cx*scale_factor, 1), round(cy*scale_factor, 1), round(r*scale_factor, 1)))\n",
    "\n",
    "with open('predict.txt', 'r') as f:\n",
    "    reader = csv.reader(f)\n",
    "    data = list(reader)\n",
    "\n",
    "# 添加新的数据\n",
    "# for i in range(len(data)):\n",
    "#     # 如果原有的列数不足6列，用空字符串填充\n",
    "#     while len(data[i]) < 6:\n",
    "#         data[i].append('')\n",
    "    # 添加新的数据\n",
    "    \n",
    "# 找到第一个第四、五、六列为空的行的索引\n",
    "start_index = next((i for i, row in enumerate(data) if all(x == '' for x in row[3:6])), len(data))\n",
    "\n",
    "# 添加新的数据\n",
    "for i in range(start_index, start_index + len(circle_data)):\n",
    "    if i < len(data):\n",
    "        data[i][3:6] = circle_data[i - start_index]\n",
    "    else:\n",
    "        data.append(circle_data[i - start_index] + [''] * (len(data[0]) - 6))\n",
    "\n",
    "# 写回文件\n",
    "with open('predict.txt', 'w', newline='') as f:\n",
    "    writer = csv.writer(f)\n",
    "    writer.writerows(data)\n",
    "# cv2.imwrite(output_filename, image)"
   ]
  },
  {
   "cell_type": "code",
   "execution_count": 7,
   "metadata": {},
   "outputs": [
    {
     "name": "stdout",
     "output_type": "stream",
     "text": [
      "395\n"
     ]
    },
    {
     "data": {
      "text/plain": [
       "<matplotlib.image.AxesImage at 0x12fadb04430>"
      ]
     },
     "execution_count": 7,
     "metadata": {},
     "output_type": "execute_result"
    },
    {
     "data": {
      "image/png": "[encoded data removed]",
      "text/plain": [
       "<Figure size 640x480 with 1 Axes>"
      ]
     },
     "metadata": {},
     "output_type": "display_data"
    }
   ],
   "source": [
    "import cv2\n",
    "import numpy as np\n",
    "import matplotlib.pyplot as plt\n",
    "from scipy.optimize import curve_fit\n",
    "from matplotlib.patches import Circle\n",
    "# from scipy.optimize import curve_fit\n",
    "\n",
    "def circle(x, cx, cy, r):\n",
    "    return np.sqrt(r**2 - (x - cx)**2) + cy\n",
    "\n",
    "# 读取黑白图片\n",
    "image = cv2.imread('./cropped/cropped_p1-1_0002.bmp', cv2.IMREAD_GRAYSCALE)\n",
    "plt.imshow(image)\n",
    "width, length = image.shape\n",
    "print(width)\n",
    "\n",
    "# 定义特定区域的边界框 [start_row:end_row, start_col:end_col]\n",
    "\n",
    "start_row, end_row = 200, 280  # 请根据实际情况调整\n",
    "start_col, end_col = 135, 275\n",
    "# imgcrop = image.crop((start_row, start_col, end_row, end_col))\n",
    "# plt.imshow(imgcrop)\n",
    "\n",
    "# 裁剪图像\n",
    "cropped_image = image[start_row:end_row, start_col:end_col]\n",
    "plt.imshow(cropped_image)"
   ]
  }
 ],
 "metadata": {
  "kernelspec": {
   "display_name": "base",
   "language": "python",
   "name": "python3"
  },
  "language_info": {
   "codemirror_mode": {
    "name": "ipython",
    "version": 3
   },
   "file_extension": ".py",
   "mimetype": "text/x-python",
   "name": "python",
   "nbconvert_exporter": "python",
   "pygments_lexer": "ipython3",
   "version": "3.9.13"
  },
  "orig_nbformat": 4
 },
 "nbformat": 4,
 "nbformat_minor": 2
}
