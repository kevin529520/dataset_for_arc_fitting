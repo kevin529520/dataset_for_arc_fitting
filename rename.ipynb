{
 "cells": [
  {
   "cell_type": "code",
   "execution_count": 14,
   "metadata": {},
   "outputs": [],
   "source": [
    "import os\n",
    "for i in range(1,5):\n",
    "    # 字符串格式化   \n",
    "    # folder_path = \"./p{}\".format(i)  # 文件夹路径\n",
    "    folder_path = f\"./p{i}\"  # 文件夹路径\n",
    "    file_extension = \".bmp\"  # 文件扩展名\n",
    "\n",
    "    # 遍历文件夹中的所有文件，修改文件名\n",
    "    for filename in os.listdir(folder_path):\n",
    "        if filename.endswith(file_extension):\n",
    "            # new_filename = \"p1-1\" + filename.split(\".\")[0].replace(\"capture\", \"\") + file_extension\n",
    "            # new_filename = f\"p{i}-1_\" + ''.join(c for c in filename.split(\".\")[0] if c.isdigit()).replace(\"p1-{i}_\", \"\") + file_extension\n",
    "            new_filename = filename.split(\".\")[0].replace(f\"1{i}00\", \"00\") + file_extension\n",
    "            os.rename(os.path.join(folder_path, filename), os.path.join(folder_path, new_filename))\n"
   ]
  },
  {
   "cell_type": "code",
   "execution_count": null,
   "metadata": {},
   "outputs": [],
   "source": []
  }
 ],
 "metadata": {
  "kernelspec": {
   "display_name": "base",
   "language": "python",
   "name": "python3"
  },
  "language_info": {
   "name": "python",
   "version": "3.9.13"
  },
  "orig_nbformat": 4
 },
 "nbformat": 4,
 "nbformat_minor": 2
}
