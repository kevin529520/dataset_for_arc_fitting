{
 "cells": [
  {
   "cell_type": "code",
   "execution_count": 7,
   "metadata": {},
   "outputs": [],
   "source": [
    "import os\n",
    "for i in range(1,5):\n",
    "    # 字符串格式化   \n",
    "    # folder_path = \"./p{}\".format(i)  # 文件夹路径\n",
    "    folder_path = f\"./p{i}\"  # 文件夹路径\n",
    "    file_extension = \".bmp\"  # 文件扩展名\n",
    "\n",
    "    # 遍历文件夹中的所有文件，修改文件名\n",
    "    for filename in os.listdir(folder_path):\n",
    "        # 把filename保存到txt文档的第一列\n",
    "        with open('predict.txt', 'a') as f:\n",
    "            f.write(filename + '\\n')"
   ]
  },
  {
   "cell_type": "code",
   "execution_count": 8,
   "metadata": {},
   "outputs": [],
   "source": [
    "import csv\n",
    "\n",
    "# 创建一个列表，包含你想添加的值\n",
    "second_column_values = [0]*63 + [1.2]*63 + [2.5]*63 + [9.2]*63\n",
    "third_column_values = [3]*63 + [7.8]*63 + [11.8]*63 + [13.8]*63\n",
    "# 读取文件\n",
    "with open('predict.txt', 'r') as f:\n",
    "    reader = csv.reader(f)\n",
    "    data = list(reader)\n",
    "\n",
    "# 添加新的列\n",
    "for i in range(len(data)):\n",
    "    data[i].append(second_column_values[i])\n",
    "    data[i].append(third_column_values[i])\n",
    "# 写回文件\n",
    "with open('predict.txt', 'w', newline='') as f:\n",
    "    writer = csv.writer(f)\n",
    "    writer.writerows(data)"
   ]
  }
 ],
 "metadata": {
  "kernelspec": {
   "display_name": "base",
   "language": "python",
   "name": "python3"
  },
  "language_info": {
   "codemirror_mode": {
    "name": "ipython",
    "version": 3
   },
   "file_extension": ".py",
   "mimetype": "text/x-python",
   "name": "python",
   "nbconvert_exporter": "python",
   "pygments_lexer": "ipython3",
   "version": "3.9.13"
  },
  "orig_nbformat": 4
 },
 "nbformat": 4,
 "nbformat_minor": 2
}
